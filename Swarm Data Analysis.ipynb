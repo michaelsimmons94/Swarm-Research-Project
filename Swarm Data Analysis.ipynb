{
 "cells": [
  {
   "cell_type": "code",
   "execution_count": 1,
   "metadata": {},
   "outputs": [],
   "source": [
    "import math\n",
    "import random\n",
    "import numpy as np\n",
    "from numpy import linalg\n",
    "\n",
    "from mesa import Agent, Model\n",
    "from mesa.datacollection import DataCollector\n",
    "from mesa.space import MultiGrid\n",
    "from mesa.time import RandomActivation\n",
    "\n",
    "#TODO: create a funtion that gets at what step 95% of the swarm has been stable for at least 10 steps\n",
    "#TODO: create a batch runner that can get all this data v-quick\n",
    "#TODO: create way to count area covered. Define area covered\n",
    "#TODO: create rootsAgent\n",
    "def area_covered(model):\n",
    "    area=0\n",
    "    for row in range(int(model.grid.height)):\n",
    "        for col in range(int(model.grid.width)):\n",
    "            if len(model.grid.get_neighbors((row,col),moore= True,include_center=True, radius=3))>1:\n",
    "                area+=1\n",
    "    return area\n",
    "def percent_stable(model):\n",
    "    agent_stabilities=[agent.stable for agent in model.schedule.agents]\n",
    "    fraction=0\n",
    "    for x in agent_stabilities:\n",
    "        if x:\n",
    "            fraction+=1\n",
    "    return fraction/len(agent_stabilities)\n",
    "def connections_perAgent(model):\n",
    "    connections=[agent.num for agent in model.schedule.agents]\n",
    "    return sum(connections)/len(connections)\n",
    "\n",
    "def fiedler_eigenvalues(model):\n",
    "    agents=model.schedule.agents\n",
    "    dim=len(agents)\n",
    "    adjMatrix=np.zeros((dim,dim))\n",
    "    for x in agents:\n",
    "        for y in x.neighbors:\n",
    "            adjMatrix[x.unique_id,y.unique_id]=1\n",
    "    degMatrix=np.zeros((dim,dim))\n",
    "    for x in agents:\n",
    "        degMatrix[x.unique_id,x.unique_id]=x.num\n",
    "    lapMatrix=np.subtract(degMatrix,adjMatrix)\n",
    "    eigenvals= linalg.eig(lapMatrix)[0]\n",
    "    uniq_evals=[]\n",
    "    connected_components=0\n",
    "    for x in eigenvals:\n",
    "        if int(x)==0:\n",
    "            connected_components+=1\n",
    "        if int(x) not in uniq_evals:\n",
    "            uniq_evals.append(int(x))\n",
    "    uniq_evals.sort()\n",
    "    if len(uniq_evals)<2:\n",
    "        return 0\n",
    "    elif uniq_evals[1]==0:\n",
    "        return connected_components\n",
    "    elif uniq_evals[1]>=0:\n",
    "        return 1\n",
    "    else:\n",
    "        return 0 #uniq_evals[1]\n",
    "\n",
    "class SwarmModel(Model):\n",
    "\n",
    "\n",
    "    def __init__(self, N, width, height, numNeighbors,swarmType):\n",
    "        self.num_agents = N\n",
    "        self.running = True\n",
    "        if numNeighbors>N:\n",
    "            numNeighbors=N\n",
    "        self.numNeighbors=numNeighbors\n",
    "        self.grid = MultiGrid(height, width, True)\n",
    "        self.schedule = RandomActivation(self)\n",
    "        self.datacollector = DataCollector(\n",
    "            model_reporters={\"Connections\": connections_perAgent, \"Stability\": percent_stable, \"Area\": area_covered},\n",
    "            agent_reporters={\"NumNeighbors\":\"num\", \"Stable\":\"stable\",\"Neighbors\":\"neighbors\"}\n",
    "        )\n",
    "        # Create agents\n",
    "        for i in range(self.num_agents):\n",
    "            if swarmType==\"Roots\":\n",
    "                a = RootsAgent(i, self)\n",
    "                if i==0:\n",
    "                    a.stable=True\n",
    "                self.schedule.add(a)\n",
    "            else:\n",
    "                a = BasicAgent(i, self)\n",
    "                self.schedule.add(a)\n",
    "            # Add the agent to a random grid cell\n",
    "            x = self.grid.width//2\n",
    "            y = self.grid.height//2\n",
    "            self.grid.place_agent(a, (x, y))\n",
    "\n",
    "        self.running = True\n",
    "        self.datacollector.collect(self)\n",
    "\n",
    "    def step(self):\n",
    "        self.schedule.step()\n",
    "        # collect data\n",
    "        self.datacollector.collect(self)\n",
    "\n",
    "    def run_model(self, n):\n",
    "        for i in range(n):\n",
    "            self.step()\n",
    "\n",
    "\n",
    "class BasicAgent(Agent):\n",
    "    \n",
    "    def __init__(self, unique_id, model):\n",
    "        super().__init__(unique_id, model)\n",
    "        self.direction=(0,0)\n",
    "        self.neighbors=[]\n",
    "        self.num=0\n",
    "        self.targetNeighbors=self.model.numNeighbors\n",
    "        self.lowerBuffer=1\n",
    "        self.upperBuffer=1\n",
    "        self.stable=False\n",
    "\n",
    "    def chooseDirection(self):\n",
    "        #update neighbors\n",
    "        #moore= include diagonals\n",
    "        self.neighbors= self.model.grid.get_neighbors(self.pos,moore= True,include_center=True, radius=3)\n",
    "        self.num=len(self.neighbors)-1\n",
    "\n",
    "        if self.num>=self.targetNeighbors-self.lowerBuffer and self.num<=self.targetNeighbors+self.upperBuffer:\n",
    "            #stay put\n",
    "            #print(\"agent: %d stayed\",self.unique_id)\n",
    "            self.direction= (0,0)\n",
    "        elif self.num==0:\n",
    "            #return to center\n",
    "            x=self.model.grid.width//2-self.pos[0]\n",
    "            y=self.model.grid.height//2-self.pos[1]\n",
    "            #self.stable=False\n",
    "            self.direction= self.flattenDirection((x,y))\n",
    "        elif self.num< self.targetNeighbors-self.lowerBuffer:\n",
    "            #move toward neighbors\n",
    "            avgPos=self.getAvgNeighborPos()\n",
    "            x=avgPos[0]-self.pos[0]\n",
    "            y=avgPos[1]-self.pos[1]\n",
    "            #self.stable=False\n",
    "            self.direction= self.flattenDirection((x,y))\n",
    "        else:\n",
    "            #move away from neighbors\n",
    "            #print(\"neighbors:\", self.neighbors)\n",
    "            avgPos=self.getAvgNeighborPos()\n",
    "            #print(\"pos:\",self.pos)\n",
    "            #print(\"pos:\",avgPos)\n",
    "            x=self.pos[0]-avgPos[0]\n",
    "            y=self.pos[1]-avgPos[1]\n",
    "            if x==0 and y==0:\n",
    "                #move randomly\n",
    "                self.direction=self.randomDirection()\n",
    "            else:\n",
    "                self.direction=self.flattenDirection((x,y))\n",
    "    def randomDirection(self):\n",
    "        x= random.randint(-1,1)\n",
    "        y=random.randint(-1,1)\n",
    "        return (x,y)\n",
    "    def flattenDirection(self, newPos):\n",
    "        x= newPos[0]\n",
    "        y= newPos[1]\n",
    "        if x>y:\n",
    "            return (math.copysign(1,x),0)\n",
    "        elif x<y:\n",
    "            return(0,math.copysign(1,y))\n",
    "        else:\n",
    "            return(math.copysign(1,x),math.copysign(1,y))\n",
    "        \n",
    "    def getAvgNeighborPos(self):\n",
    "        x=0\n",
    "        y=0\n",
    "        for neigh in self.neighbors:\n",
    "            if neigh.unique_id==self.unique_id:\n",
    "                pass\n",
    "            else:\n",
    "                x+=neigh.pos[0]\n",
    "                y+=neigh.pos[1]\n",
    "        return (x//self.num,y//self.num) \n",
    "    \n",
    "    def move(self):\n",
    "        self.chooseDirection()\n",
    "        if self.direction== (0,0):\n",
    "            self.stable=True\n",
    "        else:\n",
    "            self.stable=False\n",
    "        x=self.pos[0]+self.direction[0]\n",
    "        y=self.pos[1]+self.direction[1]\n",
    "        new_position = (int(x),int(y))\n",
    "        self.model.grid.move_agent(self, new_position)\n",
    "\n",
    "    def step(self):\n",
    "        self.move()\n",
    "#----------------------------------------------------\n",
    "class RootsAgent(Agent):\n",
    "    def __init__(self, unique_id, model):\n",
    "        super().__init__(unique_id, model)\n",
    "        self.direction=(0,0)\n",
    "        self.neighbors=[]\n",
    "        self.num=0\n",
    "        self.targetNeighbors=self.model.numNeighbors\n",
    "        self.lowerBuffer=1\n",
    "        self.upperBuffer=1\n",
    "        self.stable=False\n",
    "        self.parent= None\n",
    "        self.parentDir=(0,0)\n",
    "        self.parent_pos=(0,0)\n",
    "        self.leader=False\n",
    "        self.depth=0\n",
    "\n",
    "    def getParent(self):\n",
    "        tempParent=None\n",
    "        for x in self.neighbors:\n",
    "            if x.stable and x.targetNeighbors>0:\n",
    "                if tempParent==None:\n",
    "                    tempParent=x\n",
    "                elif x.depth<tempParent.depth:\n",
    "                    tempParent=x\n",
    "        if tempParent==None:       \n",
    "            return False\n",
    "        else:\n",
    "            self.parent=tempParent.unique_id\n",
    "            self.parent_pos=tempParent.pos\n",
    "            tempParent.targetNeighbors-=1\n",
    "            self.depth= tempParent.depth+1\n",
    "            self.parentDir=tempParent.direction\n",
    "            return True\n",
    "    def dirIsDiagonal(self):\n",
    "        if abs(self.parentDir[0])==abs(self.parentDir[0]):\n",
    "            return True\n",
    "        return False\n",
    "    def getMutatedDir(self):\n",
    "        x=self.parentDir[0]\n",
    "        y=self.parentDir[1]\n",
    "        if self.dirIsDiagonal():\n",
    "            choice=random.randint(0,2)\n",
    "            if choice==0:\n",
    "                x-=math.copysign(1,x)\n",
    "            elif choice==1:\n",
    "                y-=math.copysign(1,y)\n",
    "            else:\n",
    "                pass\n",
    "        else:\n",
    "            mutation=random.randint(-1,1)\n",
    "            if abs(x)>abs(y):\n",
    "                y+=mutation\n",
    "            else:\n",
    "                x+=mutation\n",
    "        return (x,y)\n",
    "    def lead(self):\n",
    "        x= self.parentDir[0]\n",
    "        y= self.parentDir[1]\n",
    "        mutation=self.getMutatedDir()\n",
    "        neighborpos=self.getAvgNeighborPos()\n",
    "        neighbordir=self.flattenDirection((x-neighborpos[0],y-neighborpos[1]))\n",
    "        x=x+mutation[0]-2*neighbordir[0]\n",
    "        y=y+mutation[1]-2*neighbordir[1]\n",
    "        self.direction=self.flattenDirection((x,y))\n",
    "    def getLeaderPos(self):\n",
    "        #gets the leader with the least neighbors\n",
    "        leader=None\n",
    "        for x in self.neighbors:\n",
    "            if not x.stable and x.leader:\n",
    "                #update x's neighbors\n",
    "                x.neighbors= x.model.grid.get_neighbors(x.pos,moore= True,include_center=True, radius=3)\n",
    "                x.num = len(x.neighbors)\n",
    "                if leader==None:\n",
    "                    leader=x\n",
    "                elif x.num<leader.num:\n",
    "                    leader=x\n",
    "        return leader.pos\n",
    "\n",
    "    def follow(self):\n",
    "        leaderPos=self.getLeaderPos()\n",
    "        x= leaderPos[0]-self.pos[0]\n",
    "        y= leaderPos[1]-self.pos[1]\n",
    "        self.direction=self.flattenDirection((x,y))\n",
    "\n",
    "    def chooseDirection(self):\n",
    "        self.neighbors= self.model.grid.get_neighbors(self.pos,moore= True,include_center=True, radius=3)\n",
    "        self.num=len(self.neighbors)-1\n",
    "        if not self.leader:\n",
    "            if self.getParent():\n",
    "                #become a leader\n",
    "                self.leader=True\n",
    "                self.lead()\n",
    "            else:\n",
    "                #become a follower\n",
    "                self.follow()\n",
    "        else:\n",
    "            if self.parentDir==(0,0):\n",
    "                while(self.direction==(0,0)):\n",
    "                    self.direction=self.randomDirection()\n",
    "            else:\n",
    "                self.lead()\n",
    "\n",
    "        \n",
    "    \n",
    "    def randomDirection(self):\n",
    "        x= random.randint(-1,1)\n",
    "        y=random.randint(-1,1)\n",
    "        return (x,y)\n",
    "    def flattenDirection(self, newPos):\n",
    "        x= newPos[0]\n",
    "        y= newPos[1]\n",
    "        if x>y:\n",
    "            return (math.copysign(1,x),0)\n",
    "        elif x<y:\n",
    "            return(0,math.copysign(1,y))\n",
    "        else:\n",
    "            return(math.copysign(1,x),math.copysign(1,y))\n",
    "        \n",
    "    def getAvgNeighborPos(self):\n",
    "        x=0\n",
    "        y=0\n",
    "        for neigh in self.neighbors:\n",
    "            if neigh.unique_id==self.unique_id:\n",
    "                pass\n",
    "            else:\n",
    "                x+=neigh.pos[0]\n",
    "                y+=neigh.pos[1]\n",
    "        return (x//self.num,y//self.num) \n",
    "    def isInRange(self, new_pos):\n",
    "        diffX=abs(new_pos[0]-self.parent_pos[0])\n",
    "        diffY=abs(new_pos[1]-self.parent_pos[1])\n",
    "        if diffX+diffY<=3:\n",
    "            return True\n",
    "        elif diffX==diffY==2:\n",
    "            return True\n",
    "        else:\n",
    "            return False\n",
    "    def move(self):\n",
    "        if not self.stable:\n",
    "            self.chooseDirection()\n",
    "            x=self.pos[0]+self.direction[0]\n",
    "            y=self.pos[1]+self.direction[1]\n",
    "            new_position = (int(x),int(y))\n",
    "            if self.leader and not self.isInRange(new_position):\n",
    "                self.stable=True\n",
    "            else:\n",
    "                self.model.grid.move_agent(self, new_position)\n",
    "\n",
    "    def step(self):\n",
    "        self.move()\n"
   ]
  },
  {
   "cell_type": "code",
   "execution_count": 16,
   "metadata": {},
   "outputs": [
    {
     "name": "stderr",
     "output_type": "stream",
     "text": [
      "50it [04:53,  1.18s/it]C:\\Users\\David\\Anaconda3\\lib\\site-packages\\ipykernel_launcher.py:48: ComplexWarning: Casting complex values to real discards the imaginary part\n",
      "C:\\Users\\David\\Anaconda3\\lib\\site-packages\\ipykernel_launcher.py:50: ComplexWarning: Casting complex values to real discards the imaginary part\n",
      "C:\\Users\\David\\Anaconda3\\lib\\site-packages\\ipykernel_launcher.py:51: ComplexWarning: Casting complex values to real discards the imaginary part\n",
      "180it [15:20,  1.02s/it]\n"
     ]
    }
   ],
   "source": [
    "from mesa.batchrunner import BatchRunner\n",
    "fixed_params = {\"width\": 50,\n",
    "                \"height\": 50,\n",
    "               \"swarmType\": \"Basic\",\n",
    "               \"N\":50}\n",
    "variable_params = {\"numNeighbors\": range(2, 20, 1)}\n",
    "\n",
    "batch_run = BatchRunner(SwarmModel,\n",
    "                        fixed_parameters=fixed_params,\n",
    "                        variable_parameters=variable_params,\n",
    "                        iterations=10,\n",
    "                        max_steps=100,\n",
    "                        model_reporters={\"Connections\": connections_perAgent, \"Stability\": percent_stable, \"Area\": area_covered, \"Fiedler\": fiedler_eigenvalues})\n",
    "batch_run.run_all()"
   ]
  },
  {
   "cell_type": "code",
   "execution_count": 17,
   "metadata": {},
   "outputs": [
    {
     "data": {
      "text/plain": [
       "<matplotlib.collections.PathCollection at 0x216ff479048>"
      ]
     },
     "execution_count": 17,
     "metadata": {},
     "output_type": "execute_result"
    },
    {
     "data": {
      "image/png": "[encoded data removed]",
      "text/plain": [
       "<matplotlib.figure.Figure at 0x216ff4cd7f0>"
      ]
     },
     "metadata": {},
     "output_type": "display_data"
    }
   ],
   "source": [
    "import matplotlib.pyplot as plt\n",
    "basic_data= batch_run.get_model_vars_dataframe()\n",
    "basic_data.head()\n",
    "plt.scatter(basic_data.numNeighbors, basic_data.Connections)"
   ]
  },
  {
   "cell_type": "code",
   "execution_count": 18,
   "metadata": {},
   "outputs": [
    {
     "data": {
      "text/plain": [
       "<matplotlib.collections.PathCollection at 0x216ff268470>"
      ]
     },
     "execution_count": 18,
     "metadata": {},
     "output_type": "execute_result"
    },
    {
     "data": {
      "image/png": "[encoded data removed]",
      "text/plain": [
       "<matplotlib.figure.Figure at 0x216ff19ceb8>"
      ]
     },
     "metadata": {},
     "output_type": "display_data"
    }
   ],
   "source": [
    "plt.scatter(basic_data.numNeighbors, basic_data.Stability)"
   ]
  },
  {
   "cell_type": "code",
   "execution_count": 19,
   "metadata": {},
   "outputs": [
    {
     "data": {
      "text/plain": [
       "<matplotlib.collections.PathCollection at 0x216ff21d4e0>"
      ]
     },
     "execution_count": 19,
     "metadata": {},
     "output_type": "execute_result"
    },
    {
     "data": {
      "image/png": "[encoded data removed]",
      "text/plain": [
       "<matplotlib.figure.Figure at 0x216ff479c18>"
      ]
     },
     "metadata": {},
     "output_type": "display_data"
    }
   ],
   "source": [
    "plt.scatter(basic_data.numNeighbors, basic_data.Area)"
   ]
  },
  {
   "cell_type": "code",
   "execution_count": 20,
   "metadata": {},
   "outputs": [
    {
     "data": {
      "text/plain": [
       "<matplotlib.collections.PathCollection at 0x216ff4794a8>"
      ]
     },
     "execution_count": 20,
     "metadata": {},
     "output_type": "execute_result"
    },
    {
     "data": {
      "image/png": "[encoded data removed]",
      "text/plain": [
       "<matplotlib.figure.Figure at 0x216feb5bef0>"
      ]
     },
     "metadata": {},
     "output_type": "display_data"
    }
   ],
   "source": [
    "plt.scatter(basic_data.numNeighbors, basic_data.Fiedler)"
   ]
  },
  {
   "cell_type": "code",
   "execution_count": 21,
   "metadata": {},
   "outputs": [
    {
     "name": "stderr",
     "output_type": "stream",
     "text": [
      "0it [00:00, ?it/s]C:\\Users\\David\\Anaconda3\\lib\\site-packages\\ipykernel_launcher.py:48: ComplexWarning: Casting complex values to real discards the imaginary part\n",
      "C:\\Users\\David\\Anaconda3\\lib\\site-packages\\ipykernel_launcher.py:50: ComplexWarning: Casting complex values to real discards the imaginary part\n",
      "C:\\Users\\David\\Anaconda3\\lib\\site-packages\\ipykernel_launcher.py:51: ComplexWarning: Casting complex values to real discards the imaginary part\n",
      "180it [14:07,  1.01it/s]\n"
     ]
    }
   ],
   "source": [
    "\n",
    "fixed_params2 = {\"width\": 50,\n",
    "                \"height\": 50,\n",
    "               \"swarmType\": \"Roots\",\n",
    "               \"N\":50}\n",
    "variable_params2 = {\"numNeighbors\": range(2, 20, 1)}\n",
    "\n",
    "batch_run = BatchRunner(SwarmModel,\n",
    "                        fixed_parameters=fixed_params2,\n",
    "                        variable_parameters=variable_params2,\n",
    "                        iterations=10,\n",
    "                        max_steps=100,\n",
    "                        model_reporters={\"Connections\": connections_perAgent, \"Stability\": percent_stable, \"Area\": area_covered, \"Fiedler\": fiedler_eigenvalues})\n",
    "batch_run.run_all()"
   ]
  },
  {
   "cell_type": "code",
   "execution_count": 22,
   "metadata": {},
   "outputs": [
    {
     "data": {
      "text/plain": [
       "<matplotlib.collections.PathCollection at 0x216fefaa390>"
      ]
     },
     "execution_count": 22,
     "metadata": {},
     "output_type": "execute_result"
    },
    {
     "data": {
      "image/png": "[encoded data removed]",
      "text/plain": [
       "<matplotlib.figure.Figure at 0x216feb64390>"
      ]
     },
     "metadata": {},
     "output_type": "display_data"
    }
   ],
   "source": [
    "root_data= batch_run.get_model_vars_dataframe()\n",
    "root_data.head()\n",
    "plt.scatter(root_data.numNeighbors, root_data.Connections)"
   ]
  },
  {
   "cell_type": "code",
   "execution_count": 23,
   "metadata": {},
   "outputs": [
    {
     "data": {
      "text/plain": [
       "<matplotlib.collections.PathCollection at 0x216feb5da58>"
      ]
     },
     "execution_count": 23,
     "metadata": {},
     "output_type": "execute_result"
    },
    {
     "data": {
      "image/png": "[encoded data removed]",
      "text/plain": [
       "<matplotlib.figure.Figure at 0x216ff243cc0>"
      ]
     },
     "metadata": {},
     "output_type": "display_data"
    }
   ],
   "source": [
    "plt.scatter(root_data.numNeighbors, root_data.Stability)"
   ]
  },
  {
   "cell_type": "code",
   "execution_count": 24,
   "metadata": {},
   "outputs": [
    {
     "data": {
      "text/plain": [
       "<matplotlib.collections.PathCollection at 0x216fed87a58>"
      ]
     },
     "execution_count": 24,
     "metadata": {},
     "output_type": "execute_result"
    },
    {
     "data": {
      "image/png": "[encoded data removed]",
      "text/plain": [
       "<matplotlib.figure.Figure at 0x216feb4ee48>"
      ]
     },
     "metadata": {},
     "output_type": "display_data"
    }
   ],
   "source": [
    "plt.scatter(root_data.numNeighbors, root_data.Area)"
   ]
  },
  {
   "cell_type": "code",
   "execution_count": 25,
   "metadata": {},
   "outputs": [
    {
     "data": {
      "text/plain": [
       "<matplotlib.collections.PathCollection at 0x216ff036668>"
      ]
     },
     "execution_count": 25,
     "metadata": {},
     "output_type": "execute_result"
    },
    {
     "data": {
      "image/png": "[encoded data removed]",
      "text/plain": [
       "<matplotlib.figure.Figure at 0x216fedae518>"
      ]
     },
     "metadata": {},
     "output_type": "display_data"
    }
   ],
   "source": [
    "plt.scatter(root_data.numNeighbors, root_data.Fiedler)"
   ]
  }
 ],
 "metadata": {
  "kernelspec": {
   "display_name": "Python 3",
   "language": "python",
   "name": "python3"
  },
  "language_info": {
   "codemirror_mode": {
    "name": "ipython",
    "version": 3
   },
   "file_extension": ".py",
   "mimetype": "text/x-python",
   "name": "python",
   "nbconvert_exporter": "python",
   "pygments_lexer": "ipython3",
   "version": "3.6.4"
  }
 },
 "nbformat": 4,
 "nbformat_minor": 2
}
